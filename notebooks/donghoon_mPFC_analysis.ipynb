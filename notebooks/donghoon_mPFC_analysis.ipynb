{
 "cells": [
  {
   "cell_type": "code",
   "execution_count": 1,
   "id": "107a6d75",
   "metadata": {},
   "outputs": [],
   "source": [
    "%load_ext autoreload\n",
    "%autoreload 2\n",
    "\n",
    "import matplotlib.pyplot as plt\n",
    "from pynwb import TimeSeries\n",
    "from pynwb import NWBHDF5IO\n",
    "import pandas as pd\n",
    "import numpy as np\n",
    "import os\n",
    "os.environ[\"CUDA_VISIBLE_DEVICES\"] = \"7\"\n",
    "import jax\n",
    "os.chdir(\"..\")"
   ]
  },
  {
   "cell_type": "markdown",
   "id": "8dde9dd1",
   "metadata": {},
   "source": [
    "# Embedding Results for:\n",
    "\n",
    "- interval_list_name: `02_r1`\n",
    "- nwb_file_name: `SC10420250628_.nwb`"
   ]
  },
  {
   "cell_type": "code",
   "execution_count": null,
   "id": "ecbe2bdd",
   "metadata": {},
   "outputs": [
    {
     "name": "stderr",
     "output_type": "stream",
     "text": [
      "[2025-10-10 20:16:32,967][INFO]: Connecting sambray@lmf-db.cin.ucsf.edu:3306\n",
      "[2025-10-10 20:16:33,001][INFO]: Connected sambray@lmf-db.cin.ucsf.edu:3306\n",
      "Could not load symbol cuFuncGetName. Error: /lib/x86_64-linux-gnu/libcuda.so.1: undefined symbol: cuFuncGetName\n"
     ]
    }
   ],
   "source": [
    "from src.c3po.tables.dev_tables import C3POStorage\n",
    "\n",
    "model_name = \"donghoon_mpfc_SC10420250628_02_r1_version1\"  # There are multiple versions you can try\n",
    "\n",
    "\n",
    "C3POStorage()\n",
    "key = {\"model_name\": model_name}\n",
    "analysis = (C3POStorage & key).fetch_analysis_object()\n",
    "\n",
    "analysis.load_embedding(f\"/stelmo/sam/c3po_results/{key['model_name']}_embedding.npz\")\n",
    "\n",
    "t_interp = np.arange(analysis.t[0], analysis.t[-1], 0.001)\n",
    "analysis.interpolate_context(t_interp)\n",
    "analysis.fit_context_pca()\n",
    "\n",
    "# Just showing how to access the variables\n",
    "t = analysis.t\n",
    "z = analysis.z\n",
    "c = analysis.c\n",
    "c_pca = analysis.c_pca\n",
    "t_interp = analysis.t_interp\n",
    "c_interp = analysis.c_interp\n",
    "c_pca_interp = analysis.c_pca_interp\n",
    "latent_dim, context_dim = analysis.latent_dim, analysis.context_dim"
   ]
  }
 ],
 "metadata": {
  "kernelspec": {
   "display_name": "spyglass2025",
   "language": "python",
   "name": "python3"
  },
  "language_info": {
   "codemirror_mode": {
    "name": "ipython",
    "version": 3
   },
   "file_extension": ".py",
   "mimetype": "text/x-python",
   "name": "python",
   "nbconvert_exporter": "python",
   "pygments_lexer": "ipython3",
   "version": "3.10.16"
  }
 },
 "nbformat": 4,
 "nbformat_minor": 5
}
